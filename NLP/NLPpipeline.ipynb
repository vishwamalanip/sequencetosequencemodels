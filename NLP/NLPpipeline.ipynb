{
 "cells": [
  {
   "cell_type": "markdown",
   "id": "9314a6a2",
   "metadata": {},
   "source": [
    "# NLP pipeline "
   ]
  },
  {
   "cell_type": "markdown",
   "id": "b22ed20b",
   "metadata": {},
   "source": [
    "# Data Acquisition\n",
    "\n",
    "    1.available                                2. others                    3.nobody\n",
    "    \n",
    "    ->table form                        ->public dataset\n",
    "                                         kaggle, companys dataset,\n",
    "                                         Universities dataset,\n",
    "                                         keras\n",
    "    ->database(data engineering)        ->web scarping(beautifulsoup)\n",
    "    ->less data                         ->API(rapid API)\n",
    "                                          requests(library)-->jsonfile\n",
    "    (data augmentation :{\n",
    "                         Synonym ,\n",
    "                         biogram flip,\n",
    "                         back translate,\n",
    "                         add n noise})\n",
    "                                         ->pdf\n",
    "                                         ->image(review on image,photo)\n",
    "                                         ->audio(on audio review)"
   ]
  },
  {
   "cell_type": "markdown",
   "id": "d053341b",
   "metadata": {},
   "source": [
    "# Text Preparation \n",
    "     1.Cleaning                 2. basic preprocessing              3. Avdpreprocessing\n",
    "                                 --->basic\n",
    "     ->html tags cleaning            -->tokenization / Lemmatization  -->POS tagging\n",
    "                                               -sentence    \n",
    "                                               -word\n",
    "     ->emoji                      --->optimal                   -->coreferenceresolution\n",
    "                                       -->stop word removal            -->parsing\n",
    "                                       -->Stemming\n",
    "                                       -->removing degits,Punctuation \n",
    "                                       -->lowercasing/capitalization \n",
    "                                       -->language detectiom\n",
    "\n",
    "     ->spelling checker\n",
    "\n",
    "\n",
    "\n"
   ]
  },
  {
   "cell_type": "markdown",
   "id": "5a535488",
   "metadata": {},
   "source": [
    "# Feature Engineering \n",
    "    text vectorization\n"
   ]
  },
  {
   "cell_type": "code",
   "execution_count": null,
   "id": "40584ee8",
   "metadata": {},
   "outputs": [],
   "source": []
  }
 ],
 "metadata": {
  "kernelspec": {
   "display_name": "Python 3 (ipykernel)",
   "language": "python",
   "name": "python3"
  },
  "language_info": {
   "codemirror_mode": {
    "name": "ipython",
    "version": 3
   },
   "file_extension": ".py",
   "mimetype": "text/x-python",
   "name": "python",
   "nbconvert_exporter": "python",
   "pygments_lexer": "ipython3",
   "version": "3.11.5"
  }
 },
 "nbformat": 4,
 "nbformat_minor": 5
}
